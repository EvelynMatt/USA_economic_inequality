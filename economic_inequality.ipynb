{
 "cells": [
  {
   "cell_type": "code",
   "execution_count": null,
   "metadata": {},
   "outputs": [],
   "source": [
    "import pandas as pd\n",
    "import numpy as np \n",
    "import matplotlib.pyplot as plt\n",
    "import seaborn as sns\n"
   ]
  },
  {
   "cell_type": "code",
   "execution_count": null,
   "metadata": {},
   "outputs": [],
   "source": [
    "race= pd.read_csv('ShareRaceByCity _name.csv')\n",
    "household= pd.read_csv('MedianHouseholdIncome2015.csv')\n",
    "high_school= pd.read_csv('PercentOver25CompletedHighSchool.csv')\n",
    "below_poverty= pd.read_csv('PercentagePeopleBelowPovertyLevel.csv')\n"
   ]
  },
  {
   "cell_type": "code",
   "execution_count": null,
   "metadata": {},
   "outputs": [],
   "source": [
    "list(household['Geographic_Area'].unique())\n",
    "household.groupby('Geographic_Area').count()"
   ]
  },
  {
   "cell_type": "code",
   "execution_count": null,
   "metadata": {},
   "outputs": [],
   "source": [
    "household.dtypes"
   ]
  },
  {
   "cell_type": "code",
   "execution_count": null,
   "metadata": {},
   "outputs": [],
   "source": [
    "household.isna().sum().sum()"
   ]
  },
  {
   "cell_type": "code",
   "execution_count": null,
   "metadata": {},
   "outputs": [],
   "source": [
    "household= household.dropna()\n",
    "household"
   ]
  },
  {
   "cell_type": "code",
   "execution_count": null,
   "metadata": {},
   "outputs": [],
   "source": [
    "household['Median_Income'] = pd.to_numeric(household['Median_Income'],errors='coerce')\n",
    "household= household[\"Median_Income\"] = household.Median_Income.astype(float)"
   ]
  },
  {
   "cell_type": "code",
   "execution_count": null,
   "metadata": {},
   "outputs": [],
   "source": [
    "plt.figure(figsize=(10,5))\n",
    "sns.boxplot(x=household.Median_Income)\n",
    "plt.xlabel('Median Income ($)', fontsize=18)\n",
    "plt.suptitle('Median income in US ($)', fontsize=19)\n",
    "plt.savefig(\"income.svg\")"
   ]
  },
  {
   "cell_type": "code",
   "execution_count": null,
   "metadata": {},
   "outputs": [],
   "source": [
    "plt.figure(figsize=(30,18))\n",
    "sns.boxplot(\n",
    "    data=household,\n",
    "    x='Median_Income',\n",
    "    y='Geographic_Area',\n",
    "    palette='colorblind')\n",
    "plt.xlabel('')\n",
    "plt.ylabel('Geographic Area', fontsize=18)\n",
    "plt.suptitle('Median income in different US states ($)', fontsize=20)\n",
    "plt.savefig('income.svg')"
   ]
  },
  {
   "cell_type": "code",
   "execution_count": null,
   "metadata": {},
   "outputs": [],
   "source": [
    "household.groupby(\"Geographic_Area\").Median_Income.median()\n",
    "household.Median_Income.median()"
   ]
  },
  {
   "cell_type": "code",
   "execution_count": null,
   "metadata": {},
   "outputs": [],
   "source": [
    "household.groupby(\"Geographic_Area\").Median_Income.median()"
   ]
  },
  {
   "cell_type": "code",
   "execution_count": null,
   "metadata": {},
   "outputs": [],
   "source": [
    "list(below_poverty['Geographic_Area'].unique())\n",
    "below_poverty.groupby('Geographic_Area').count()"
   ]
  },
  {
   "cell_type": "code",
   "execution_count": null,
   "metadata": {},
   "outputs": [],
   "source": [
    "below_poverty.dtypes"
   ]
  },
  {
   "cell_type": "code",
   "execution_count": null,
   "metadata": {},
   "outputs": [],
   "source": [
    "below_poverty.isna().sum().sum()"
   ]
  },
  {
   "cell_type": "code",
   "execution_count": null,
   "metadata": {},
   "outputs": [],
   "source": [
    "below_poverty = below_poverty.dropna()"
   ]
  },
  {
   "cell_type": "code",
   "execution_count": null,
   "metadata": {},
   "outputs": [],
   "source": [
    "below_poverty['poverty_rate'] = pd.to_numeric(below_poverty['poverty_rate'],errors='coerce')\n",
    "below_poverty= below_poverty[\"poverty_rate\"] = below_poverty.poverty_rate.astype(float)"
   ]
  },
  {
   "cell_type": "code",
   "execution_count": null,
   "metadata": {},
   "outputs": [],
   "source": [
    "plt.figure(figsize=(10,4))\n",
    "sns.boxplot(x=below_poverty.poverty_rate)\n",
    "plt.xlabel('')\n",
    "plt.suptitle('Average poverty in US', fontsize=19)\n",
    "plt.savefig(\"poverty.svg\")"
   ]
  },
  {
   "cell_type": "code",
   "execution_count": null,
   "metadata": {},
   "outputs": [],
   "source": [
    "plt.figure(figsize=(30,16))\n",
    "sns.boxplot(\n",
    "    data=below_poverty,\n",
    "    y='Geographic_Area',\n",
    "    x='poverty_rate',\n",
    "    palette='colorblind')\n",
    "plt.xlabel('')\n",
    "plt.ylabel('Geographic Area', fontsize=18)\n",
    "plt.suptitle('Average percentage poverty in different US states', fontsize=20)\n",
    "plt.savefig('poverty.svg')"
   ]
  },
  {
   "cell_type": "code",
   "execution_count": null,
   "metadata": {},
   "outputs": [],
   "source": [
    "below_poverty.groupby(\"Geographic_Area\").poverty_rate.median()\n",
    "below_poverty.poverty_rate.median()"
   ]
  },
  {
   "cell_type": "code",
   "execution_count": null,
   "metadata": {},
   "outputs": [],
   "source": [
    "below_poverty.groupby(\"Geographic Area\").poverty_rate.median()"
   ]
  },
  {
   "cell_type": "code",
   "execution_count": null,
   "metadata": {},
   "outputs": [],
   "source": [
    "list(high_school['Geographic Area'].unique())\n",
    "high_school.groupby('Geographic Area').count()"
   ]
  },
  {
   "cell_type": "code",
   "execution_count": null,
   "metadata": {},
   "outputs": [],
   "source": [
    "high_school.dtypes"
   ]
  },
  {
   "cell_type": "code",
   "execution_count": null,
   "metadata": {},
   "outputs": [],
   "source": [
    "high_school['percent_completed_hs'] = pd.to_numeric(high_school['percent_completed_hs'],errors='coerce')\n",
    "high_school= high_school[\"percent_completed_hs\"] = high_school.percent_completed_hs.astype(float)"
   ]
  },
  {
   "cell_type": "code",
   "execution_count": null,
   "metadata": {},
   "outputs": [],
   "source": [
    "high_school.isna().sum().sum()"
   ]
  },
  {
   "cell_type": "code",
   "execution_count": null,
   "metadata": {},
   "outputs": [],
   "source": [
    "high_school = high_school.dropna()"
   ]
  },
  {
   "cell_type": "code",
   "execution_count": null,
   "metadata": {},
   "outputs": [],
   "source": [
    "plt.figure(figsize=(10,4))\n",
    "sns.boxplot(x=high_school.percent_completed_hs)\n",
    "plt.xlabel(\"\")\n",
    "plt.suptitle('Average high school graduation (%)', fontsize=19)\n",
    "plt.savefig(\"school.svg\")\n"
   ]
  },
  {
   "cell_type": "code",
   "execution_count": null,
   "metadata": {},
   "outputs": [],
   "source": [
    "plt.figure(figsize=(30,16))\n",
    "sns.boxplot(\n",
    "    data=high_school,\n",
    "    y='Geographic Area',\n",
    "    x='percent_completed_hs',\n",
    "    palette='colorblind')\n",
    "plt.xlabel('')\n",
    "plt.ylabel('Geographic Area', fontsize=18)\n",
    "plt.suptitle('Percent completed high school (%)', fontsize=20)\n",
    "plt.savefig('highschool.svg')"
   ]
  },
  {
   "cell_type": "code",
   "execution_count": null,
   "metadata": {},
   "outputs": [],
   "source": [
    "high_school.groupby(\"Geographic Area\").percent_completed_hs.median()\n",
    "high_school.percent_completed_hs.median()"
   ]
  },
  {
   "cell_type": "code",
   "execution_count": null,
   "metadata": {},
   "outputs": [],
   "source": [
    "high_school.groupby(\"Geographic Area\").percent_completed_hs.median()"
   ]
  },
  {
   "cell_type": "code",
   "execution_count": null,
   "metadata": {},
   "outputs": [],
   "source": [
    "list(race['Geographic area'].unique())\n",
    "race.groupby('Geographic area').count()\n"
   ]
  },
  {
   "cell_type": "code",
   "execution_count": null,
   "metadata": {},
   "outputs": [],
   "source": [
    "race.isna().sum().sum()"
   ]
  },
  {
   "cell_type": "code",
   "execution_count": null,
   "metadata": {},
   "outputs": [],
   "source": [
    "race = race.dropna()"
   ]
  },
  {
   "cell_type": "code",
   "execution_count": null,
   "metadata": {},
   "outputs": [],
   "source": [
    "race['share_white'] = pd.to_numeric(race['share_white'],errors='coerce')\n",
    "race= race[\"share_white\"] = race.share_white.astype(float)\n"
   ]
  },
  {
   "cell_type": "code",
   "execution_count": null,
   "metadata": {},
   "outputs": [],
   "source": [
    "race['share_black'] = pd.to_numeric(race['share_black'],errors='coerce')\n",
    "race= race[\"share_black\"] = race.share_black.astype(float)\n"
   ]
  },
  {
   "cell_type": "code",
   "execution_count": null,
   "metadata": {},
   "outputs": [],
   "source": [
    "race['share_asian'] = pd.to_numeric(race['share_asian'],errors='coerce')\n",
    "race= race['share_asian'] = race.share_asian.astype(float)\n"
   ]
  },
  {
   "cell_type": "code",
   "execution_count": null,
   "metadata": {},
   "outputs": [],
   "source": [
    "race['share_hispanic'] = pd.to_numeric(race['share_hispanic'],errors='coerce')\n",
    "race= race['share_hispanic'] = race.share_hispanic.astype(float)\n"
   ]
  },
  {
   "cell_type": "code",
   "execution_count": null,
   "metadata": {},
   "outputs": [],
   "source": [
    "race['share_native_american'] = pd.to_numeric(race['share_native_american'],errors='coerce')\n",
    "race= race['share_native_american'] = race.share_native_american.astype(float)\n"
   ]
  },
  {
   "cell_type": "code",
   "execution_count": null,
   "metadata": {},
   "outputs": [],
   "source": [
    "plt.figure(figsize=(30,15))\n",
    "sns.boxplot(data=race)\n",
    "plt.ylabel('Percentage', fontsize=18)\n",
    "plt.suptitle('Share race', fontsize=20)\n",
    "plt.savefig('race.svg')\n"
   ]
  },
  {
   "cell_type": "code",
   "execution_count": null,
   "metadata": {},
   "outputs": [],
   "source": [
    "df = race.groupby(['Geographic_area']).mean()\n",
    "df.plot.bar(figsize=(30,15,))\n",
    "plt.xlabel('Geographic area')\n",
    "plt.ylabel('Percentage')\n",
    "plt.suptitle('Share race', fontsize=20)\n",
    "plt.savefig('raceshare.svg')\n"
   ]
  },
  {
   "cell_type": "code",
   "execution_count": null,
   "metadata": {},
   "outputs": [],
   "source": [
    "race.share_white.median()\n",
    "race.share_black.median()\n",
    "race.share_asian.median()\n",
    "race.share_hispanic.median()\n",
    "race.share_native_american.median()\n"
   ]
  },
  {
   "cell_type": "code",
   "execution_count": null,
   "metadata": {},
   "outputs": [],
   "source": [
    "race.groupby(['Geographic_area']).mean()"
   ]
  },
  {
   "cell_type": "code",
   "execution_count": null,
   "metadata": {},
   "outputs": [],
   "source": [
    "from sklearn import cluster\n",
    "from sklearn.preprocessing import LabelEncoder\n",
    "from sklearn.preprocessing import scale\n",
    "from sklearn import metrics\n"
   ]
  },
  {
   "cell_type": "code",
   "execution_count": null,
   "metadata": {},
   "outputs": [],
   "source": [
    "below_poverty['poverty_rate'] = below_poverty.groupby('Geographic_Area', as_index=False)['Geographic_Area'] .transform(lambda s: s.count())\n",
    "loc = below_poverty[['Geographic_Area', 'poverty_rate']]\n",
    "locNew = loc.drop_duplicates(subset=['Geographic_Area'])\n"
   ]
  },
  {
   "cell_type": "code",
   "execution_count": null,
   "metadata": {},
   "outputs": [],
   "source": [
    "below_poverty['Geographic_Area']= label_encoder.fit_transform(below_poverty['Geographic_Area']) \n",
    "below_poverty['City']= label_encoder.fit_transform(below_poverty['City']) \n",
    "scaled_data = scale(below_poverty)"
   ]
  },
  {
   "cell_type": "code",
   "execution_count": null,
   "metadata": {},
   "outputs": [],
   "source": [
    "from sklearn.cluster import KMeans   \n",
    "from sklearn.metrics import completeness_score \n",
    "from sklearn.metrics import homogeneity_score\n",
    "X = below_poverty.poverty_rate\n",
    "Y = below_poverty.Geographic_Area"
   ]
  },
  {
   "cell_type": "code",
   "execution_count": null,
   "metadata": {},
   "outputs": [],
   "source": [
    "kmeans = KMeans(n_clusters = 50) ##this was repeated for 2,4,5,10,15,20,25,30,35,40,45,50 clusters##\n",
    "kmeans.fit(scaled_data)\n",
    "labels = kmeans.predict(scaled_data)  \n",
    "print(completeness_score(Y, labels))\n"
   ]
  },
  {
   "cell_type": "code",
   "execution_count": null,
   "metadata": {},
   "outputs": [],
   "source": [
    "kmeans = KMeans(n_clusters = 50) ##this was repeated for 2,4,5,10,15,20,25,30,35,40,45,50##\n",
    "kmeans.fit(scaled_data)\n",
    "labels = kmeans.predict(scaled_data)  \n",
    "homogeneity_score(Y, labels)\n"
   ]
  },
  {
   "cell_type": "code",
   "execution_count": null,
   "metadata": {},
   "outputs": [],
   "source": [
    "x = [2, 4, 5,10,15,20,25,30,35,40,45,50]\n",
    "plt.plot(x,[1.0000000000000004,0.6392696791631763,0.6043125731572726,0.695660091663908, 0.6528870515078627, 0.6374333841452526,0.6566410509979342, 0.623599224893465,0.6636201631883482,0.6521178837088889,0.640546883527829,0.6397199625317699], label='Completeness Score')\n",
    "\n",
    "plt.plot(x,[0.18475536708361148,0.23864834539644553,0.2619210076125689,0.4270420685145244,0.4788518430852383,0.5271679730045572,0.5525157110933647,0.6028358783823436,0.6233791363023409,0.6419375629282417,0.650205935648311,0.6685577163683687] , label='Homogeneity Score')\n",
    "plt.legend()\n",
    "plt.xlabel('Number of clusters')\n",
    "plt.savefig('cluster.svg')\n",
    "plt.show()\n"
   ]
  },
  {
   "cell_type": "code",
   "execution_count": null,
   "metadata": {},
   "outputs": [],
   "source": [
    "from sklearn.linear_model import LogisticRegression\n",
    "lm = LogisticRegression()\n"
   ]
  },
  {
   "cell_type": "code",
   "execution_count": null,
   "metadata": {},
   "outputs": [],
   "source": [
    "X = below_poverty[['poverty_rate']]  \n",
    "y = below_poverty['Geographic_Area']\n"
   ]
  },
  {
   "cell_type": "code",
   "execution_count": null,
   "metadata": {},
   "outputs": [],
   "source": [
    "from sklearn.model_selection import train_test_split\n",
    "X_train, X_test, y_train, y_test = train_test_split(\n",
    "                      X, y, test_size=0.30, random_state=42)"
   ]
  },
  {
   "cell_type": "code",
   "execution_count": null,
   "metadata": {},
   "outputs": [],
   "source": [
    "reg = linear_model.LinearRegression() \n",
    "reg.fit(X_train, y_train)\n"
   ]
  },
  {
   "cell_type": "code",
   "execution_count": null,
   "metadata": {},
   "outputs": [],
   "source": [
    "print('Coefficients: \\n', reg.coef_) \n",
    "print('Variance score: {}'.format(reg.score(X_test, y_test)))\n"
   ]
  },
  {
   "cell_type": "code",
   "execution_count": null,
   "metadata": {},
   "outputs": [],
   "source": [
    "X = below_poverty[['poverty_rate']]  \n",
    "y = below_poverty['Geographic_Area'] \n",
    "X_train, X_test, y_train, y_test = train_test_split(\n",
    "                      X, y, test_size=0.30)\n",
    "lm.fit(X_train, Y_train)\n",
    "lm.predict_proba(X_test)\n",
    "predicted = lm.predict(X_test)\n",
    "print(metrics.classification_report(Y_test, predicted))\n",
    "print(metrics.confusion_matrix(Y_test, predicted))\n"
   ]
  },
  {
   "cell_type": "code",
   "execution_count": null,
   "metadata": {},
   "outputs": [],
   "source": []
  },
  {
   "cell_type": "code",
   "execution_count": null,
   "metadata": {},
   "outputs": [],
   "source": []
  }
 ],
 "metadata": {
  "kernelspec": {
   "display_name": "Python 3",
   "language": "python",
   "name": "python3"
  },
  "language_info": {
   "codemirror_mode": {
    "name": "ipython",
    "version": 3
   },
   "file_extension": ".py",
   "mimetype": "text/x-python",
   "name": "python",
   "nbconvert_exporter": "python",
   "pygments_lexer": "ipython3",
   "version": "3.8.3"
  }
 },
 "nbformat": 4,
 "nbformat_minor": 4
}
